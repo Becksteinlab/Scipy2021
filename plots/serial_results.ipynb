{
 "cells": [
  {
   "cell_type": "code",
   "execution_count": 1,
   "metadata": {},
   "outputs": [],
   "source": [
    "import numpy as np\n",
    "import pandas as pd\n",
    "import matplotlib.pyplot as plt\n",
    "import mplcyberpunk\n",
    "from matplotlib.ticker import MultipleLocator\n",
    "#plt.style.use(\"cyberpunk\")"
   ]
  },
  {
   "cell_type": "code",
   "execution_count": 2,
   "metadata": {},
   "outputs": [],
   "source": [
    "dcd = np.empty((5,9))\n",
    "h5md_chunked = np.empty((5,9))\n",
    "h5md_contiguous = np.empty((5,9))\n",
    "h5md_default = np.empty((5,9))\n",
    "trr = np.empty((5,9))\n",
    "xtc = np.empty((5,9))"
   ]
  },
  {
   "cell_type": "code",
   "execution_count": 3,
   "metadata": {},
   "outputs": [],
   "source": [
    "dcd2 = np.empty((5,9))\n",
    "h5md_chunked2 = np.empty((5,9))\n",
    "h5md_contiguous2 = np.empty((5,9))\n",
    "h5md_default2 = np.empty((5,9))\n",
    "trr2 = np.empty((5,9))\n",
    "xtc2 = np.empty((5,9))"
   ]
  },
  {
   "cell_type": "code",
   "execution_count": null,
   "metadata": {},
   "outputs": [],
   "source": []
  },
  {
   "cell_type": "code",
   "execution_count": 21,
   "metadata": {},
   "outputs": [],
   "source": [
    "for i in range(5):\n",
    "    dcd[i] = np.load(f\"Agave/benchmarks/serial/results/old_assignment/old_assignment_3/dcd_{i+1}/YiiP_system_9ns_center100x_times.npy\")\n",
    "    h5md_chunked[i] = np.load(f\"Agave/benchmarks/serial/results/old_assignment/old_assignment_3/h5md_chunked_{i+1}/YiiP_system_9ns_center100x_chunked_times.npy\")\n",
    "    h5md_contiguous[i] = np.load(f\"Agave/benchmarks/serial/results/old_assignment/old_assignment_3/h5md_contiguous_{i+1}/YiiP_system_9ns_center100x_contiguous_times.npy\")\n",
    "    h5md_default[i] = np.load(f\"Agave/benchmarks/serial/results/old_assignment/old_assignment_3/h5md_default_{i+1}/YiiP_system_9ns_center100x_times.npy\")\n",
    "    trr[i] = np.load(f\"Agave/benchmarks/serial/results/old_assignment/old_assignment_3/trr_{i+1}/YiiP_system_9ns_center100x_times.npy\")\n",
    "    xtc[i] = np.load(f\"Agave/benchmarks/serial/results/old_assignment/old_assignment_3/xtc_{i+1}/YiiP_system_9ns_center100x_times.npy\")\n",
    "    \n",
    "    dcd2[i] = np.load(f\"Agave/benchmarks/serial/results/read_direct/read_direct_1/dcd_{i+1}/YiiP_system_9ns_center100x_times.npy\")\n",
    "    h5md_chunked2[i] = np.load(f\"Agave/benchmarks/serial/results/read_direct/read_direct_1/h5md_chunked_{i+1}/YiiP_system_9ns_center100x_chunked_times.npy\")\n",
    "    h5md_contiguous2[i] = np.load(f\"Agave/benchmarks/serial/results/read_direct/read_direct_1/h5md_contiguous_{i+1}/YiiP_system_9ns_center100x_contiguous_times.npy\")\n",
    "    h5md_default2[i] = np.load(f\"Agave/benchmarks/serial/results/read_direct/read_direct_1/h5md_default_{i+1}/YiiP_system_9ns_center100x_times.npy\")\n",
    "    trr2[i] = np.load(f\"Agave/benchmarks/serial/results/read_direct/read_direct_1/trr_{i+1}/YiiP_system_9ns_center100x_times.npy\")\n",
    "    xtc2[i] = np.load(f\"Agave/benchmarks/serial/results/read_direct/read_direct_1/xtc_{i+1}/YiiP_system_9ns_center100x_times.npy\")"
   ]
  },
  {
   "cell_type": "code",
   "execution_count": 22,
   "metadata": {},
   "outputs": [
    {
     "data": {
      "text/html": [
       "<div>\n",
       "<style scoped>\n",
       "    .dataframe tbody tr th:only-of-type {\n",
       "        vertical-align: middle;\n",
       "    }\n",
       "\n",
       "    .dataframe tbody tr th {\n",
       "        vertical-align: top;\n",
       "    }\n",
       "\n",
       "    .dataframe thead th {\n",
       "        text-align: right;\n",
       "    }\n",
       "</style>\n",
       "<table border=\"1\" class=\"dataframe\">\n",
       "  <thead>\n",
       "    <tr style=\"text-align: right;\">\n",
       "      <th></th>\n",
       "      <th>Init</th>\n",
       "      <th>Init_Top</th>\n",
       "      <th>Init_Traj</th>\n",
       "      <th>IO</th>\n",
       "      <th>IO/Frame</th>\n",
       "      <th>RMSD</th>\n",
       "      <th>RMSD/Frame</th>\n",
       "      <th>Close</th>\n",
       "      <th>Total</th>\n",
       "    </tr>\n",
       "  </thead>\n",
       "  <tbody>\n",
       "    <tr>\n",
       "      <th>0</th>\n",
       "      <td>6.153463</td>\n",
       "      <td>5.852067</td>\n",
       "      <td>0.293690</td>\n",
       "      <td>838.220883</td>\n",
       "      <td>0.009303</td>\n",
       "      <td>20.339122</td>\n",
       "      <td>0.000226</td>\n",
       "      <td>0.016165</td>\n",
       "      <td>864.729633</td>\n",
       "    </tr>\n",
       "    <tr>\n",
       "      <th>1</th>\n",
       "      <td>6.163353</td>\n",
       "      <td>5.901697</td>\n",
       "      <td>0.254086</td>\n",
       "      <td>637.289866</td>\n",
       "      <td>0.007073</td>\n",
       "      <td>20.215228</td>\n",
       "      <td>0.000224</td>\n",
       "      <td>0.000454</td>\n",
       "      <td>663.668901</td>\n",
       "    </tr>\n",
       "    <tr>\n",
       "      <th>2</th>\n",
       "      <td>7.725302</td>\n",
       "      <td>7.621068</td>\n",
       "      <td>0.099405</td>\n",
       "      <td>676.632888</td>\n",
       "      <td>0.007510</td>\n",
       "      <td>20.137440</td>\n",
       "      <td>0.000224</td>\n",
       "      <td>0.000510</td>\n",
       "      <td>704.496139</td>\n",
       "    </tr>\n",
       "    <tr>\n",
       "      <th>3</th>\n",
       "      <td>5.106388</td>\n",
       "      <td>4.002315</td>\n",
       "      <td>1.097209</td>\n",
       "      <td>539.091696</td>\n",
       "      <td>0.005983</td>\n",
       "      <td>15.875855</td>\n",
       "      <td>0.000176</td>\n",
       "      <td>0.000609</td>\n",
       "      <td>560.074548</td>\n",
       "    </tr>\n",
       "    <tr>\n",
       "      <th>4</th>\n",
       "      <td>2.340715</td>\n",
       "      <td>2.020187</td>\n",
       "      <td>0.314684</td>\n",
       "      <td>669.460683</td>\n",
       "      <td>0.007430</td>\n",
       "      <td>20.439815</td>\n",
       "      <td>0.000227</td>\n",
       "      <td>0.000528</td>\n",
       "      <td>692.241740</td>\n",
       "    </tr>\n",
       "    <tr>\n",
       "      <th>5</th>\n",
       "      <td>2.926095</td>\n",
       "      <td>2.362408</td>\n",
       "      <td>0.558065</td>\n",
       "      <td>380.003655</td>\n",
       "      <td>0.004218</td>\n",
       "      <td>13.908545</td>\n",
       "      <td>0.000154</td>\n",
       "      <td>0.000256</td>\n",
       "      <td>396.838552</td>\n",
       "    </tr>\n",
       "    <tr>\n",
       "      <th>6</th>\n",
       "      <td>4.120581</td>\n",
       "      <td>4.010455</td>\n",
       "      <td>0.104765</td>\n",
       "      <td>409.936668</td>\n",
       "      <td>0.004550</td>\n",
       "      <td>13.944508</td>\n",
       "      <td>0.000155</td>\n",
       "      <td>0.000269</td>\n",
       "      <td>428.002027</td>\n",
       "    </tr>\n",
       "    <tr>\n",
       "      <th>7</th>\n",
       "      <td>3.073718</td>\n",
       "      <td>2.965635</td>\n",
       "      <td>0.100119</td>\n",
       "      <td>439.395526</td>\n",
       "      <td>0.004877</td>\n",
       "      <td>14.531831</td>\n",
       "      <td>0.000161</td>\n",
       "      <td>0.000242</td>\n",
       "      <td>457.001317</td>\n",
       "    </tr>\n",
       "    <tr>\n",
       "      <th>8</th>\n",
       "      <td>3.090024</td>\n",
       "      <td>2.963366</td>\n",
       "      <td>0.120863</td>\n",
       "      <td>410.188262</td>\n",
       "      <td>0.004553</td>\n",
       "      <td>13.847001</td>\n",
       "      <td>0.000154</td>\n",
       "      <td>0.000220</td>\n",
       "      <td>427.125507</td>\n",
       "    </tr>\n",
       "    <tr>\n",
       "      <th>9</th>\n",
       "      <td>2.695903</td>\n",
       "      <td>2.352036</td>\n",
       "      <td>0.341245</td>\n",
       "      <td>251.933073</td>\n",
       "      <td>0.002796</td>\n",
       "      <td>13.836387</td>\n",
       "      <td>0.000154</td>\n",
       "      <td>0.000237</td>\n",
       "      <td>268.465600</td>\n",
       "    </tr>\n",
       "  </tbody>\n",
       "</table>\n",
       "</div>"
      ],
      "text/plain": [
       "       Init  Init_Top  Init_Traj          IO  IO/Frame       RMSD  RMSD/Frame  \\\n",
       "0  6.153463  5.852067   0.293690  838.220883  0.009303  20.339122    0.000226   \n",
       "1  6.163353  5.901697   0.254086  637.289866  0.007073  20.215228    0.000224   \n",
       "2  7.725302  7.621068   0.099405  676.632888  0.007510  20.137440    0.000224   \n",
       "3  5.106388  4.002315   1.097209  539.091696  0.005983  15.875855    0.000176   \n",
       "4  2.340715  2.020187   0.314684  669.460683  0.007430  20.439815    0.000227   \n",
       "5  2.926095  2.362408   0.558065  380.003655  0.004218  13.908545    0.000154   \n",
       "6  4.120581  4.010455   0.104765  409.936668  0.004550  13.944508    0.000155   \n",
       "7  3.073718  2.965635   0.100119  439.395526  0.004877  14.531831    0.000161   \n",
       "8  3.090024  2.963366   0.120863  410.188262  0.004553  13.847001    0.000154   \n",
       "9  2.695903  2.352036   0.341245  251.933073  0.002796  13.836387    0.000154   \n",
       "\n",
       "      Close       Total  \n",
       "0  0.016165  864.729633  \n",
       "1  0.000454  663.668901  \n",
       "2  0.000510  704.496139  \n",
       "3  0.000609  560.074548  \n",
       "4  0.000528  692.241740  \n",
       "5  0.000256  396.838552  \n",
       "6  0.000269  428.002027  \n",
       "7  0.000242  457.001317  \n",
       "8  0.000220  427.125507  \n",
       "9  0.000237  268.465600  "
      ]
     },
     "execution_count": 22,
     "metadata": {},
     "output_type": "execute_result"
    }
   ],
   "source": [
    "dcd3 = np.vstack((dcd, dcd2))\n",
    "cols = ['Init', 'Init_Top', 'Init_Traj', 'IO', 'IO/Frame', 'RMSD', 'RMSD/Frame', 'Close', 'Total']\n",
    "pd.DataFrame(dcd3, columns=cols)"
   ]
  },
  {
   "cell_type": "code",
   "execution_count": 23,
   "metadata": {},
   "outputs": [],
   "source": [
    "h5md3 = np.vstack((h5md_chunked, h5md_chunked2))"
   ]
  },
  {
   "cell_type": "code",
   "execution_count": 24,
   "metadata": {},
   "outputs": [],
   "source": [
    "trr3 = np.vstack((trr, trr2))\n",
    "xtc3 = np.vstack((xtc, xtc2))"
   ]
  },
  {
   "cell_type": "code",
   "execution_count": 25,
   "metadata": {},
   "outputs": [
    {
     "data": {
      "text/plain": [
       "672.1392033576965"
      ]
     },
     "execution_count": 25,
     "metadata": {},
     "output_type": "execute_result"
    }
   ],
   "source": [
    "np.mean(dcd[:,3])"
   ]
  },
  {
   "cell_type": "code",
   "execution_count": null,
   "metadata": {},
   "outputs": [],
   "source": []
  },
  {
   "cell_type": "code",
   "execution_count": null,
   "metadata": {},
   "outputs": [],
   "source": []
  },
  {
   "cell_type": "code",
   "execution_count": 26,
   "metadata": {},
   "outputs": [],
   "source": [
    "means = np.empty((6,4))\n",
    "\n",
    "means[0,0] = np.mean(dcd[:,3])\n",
    "means[0,1] = np.mean(dcd2[:,3])\n",
    "means[0,2] = np.mean(dcd[:,5])\n",
    "means[0,3] = np.mean(dcd2[:,5])\n",
    "\n",
    "means[1,0] = np.mean(h5md_chunked[:,3])\n",
    "means[1,1] = np.mean(h5md_chunked2[:,3])\n",
    "means[1,2] = np.mean(h5md_chunked[:,5])\n",
    "means[1,3] = np.mean(h5md_chunked2[:,5])\n",
    "\n",
    "means[2,0] = np.mean(h5md_contiguous[:,3])\n",
    "means[2,1] = np.mean(h5md_contiguous2[:,3])\n",
    "means[2,2] = np.mean(h5md_contiguous[:,5])\n",
    "means[2,3] = np.mean(h5md_contiguous2[:,5])\n",
    "\n",
    "means[3,0] = np.mean(h5md_default[:,3])\n",
    "means[3,1] = np.mean(h5md_default2[:,3])\n",
    "means[3,2] = np.mean(h5md_default[:,5])\n",
    "means[3,3] = np.mean(h5md_default2[:,5])\n",
    "\n",
    "means[4,0] = np.mean(trr[:,3])\n",
    "means[4,1] = np.mean(trr2[:,3])\n",
    "means[4,2] = np.mean(trr[:,5])\n",
    "means[4,3] = np.mean(trr2[:,5])\n",
    "\n",
    "means[5,0] = np.mean(xtc[:,3])\n",
    "means[5,1] = np.mean(xtc2[:,3])\n",
    "means[5,2] = np.mean(xtc[:,5])\n",
    "means[5,3] = np.mean(xtc2[:,5])"
   ]
  },
  {
   "cell_type": "code",
   "execution_count": 27,
   "metadata": {},
   "outputs": [],
   "source": [
    "errors = np.empty((6,4))\n",
    "\n",
    "errors[0,0] = np.std(dcd[:,3])\n",
    "errors[0,1] = np.std(dcd2[:,3])\n",
    "errors[0,2] = np.std(dcd[:,5])\n",
    "errors[0,3] = np.std(dcd2[:,5])\n",
    "\n",
    "errors[1,0] = np.std(h5md_chunked[:,3])\n",
    "errors[1,1] = np.std(h5md_chunked2[:,3])\n",
    "errors[1,2] = np.std(h5md_chunked[:,5])\n",
    "errors[1,3] = np.std(h5md_chunked2[:,5])\n",
    "\n",
    "errors[2,0] = np.std(h5md_contiguous[:,3])\n",
    "errors[2,1] = np.std(h5md_contiguous2[:,3])\n",
    "errors[2,2] = np.std(h5md_contiguous[:,5])\n",
    "errors[2,3] = np.std(h5md_contiguous2[:,5])\n",
    "\n",
    "errors[3,0] = np.std(h5md_default[:,3])\n",
    "errors[3,1] = np.std(h5md_default2[:,3])\n",
    "errors[3,2] = np.std(h5md_default[:,5])\n",
    "errors[3,3] = np.std(h5md_default2[:,5])\n",
    "\n",
    "errors[4,0] = np.std(trr[:,3])\n",
    "errors[4,1] = np.std(trr2[:,3])\n",
    "errors[4,2] = np.std(trr[:,5])\n",
    "errors[4,3] = np.std(trr2[:,5])\n",
    "\n",
    "errors[5,0] = np.std(xtc[:,3])\n",
    "errors[5,1] = np.std(xtc2[:,3])\n",
    "errors[5,2] = np.std(xtc[:,5])\n",
    "errors[5,3] = np.std(xtc2[:,5])"
   ]
  },
  {
   "cell_type": "code",
   "execution_count": 28,
   "metadata": {},
   "outputs": [
    {
     "data": {
      "text/html": [
       "<div>\n",
       "<style scoped>\n",
       "    .dataframe tbody tr th:only-of-type {\n",
       "        vertical-align: middle;\n",
       "    }\n",
       "\n",
       "    .dataframe tbody tr th {\n",
       "        vertical-align: top;\n",
       "    }\n",
       "\n",
       "    .dataframe thead th {\n",
       "        text-align: right;\n",
       "    }\n",
       "</style>\n",
       "<table border=\"1\" class=\"dataframe\">\n",
       "  <thead>\n",
       "    <tr style=\"text-align: right;\">\n",
       "      <th></th>\n",
       "      <th>IO</th>\n",
       "      <th>IO2</th>\n",
       "      <th>RMSD</th>\n",
       "      <th>RMSD2</th>\n",
       "    </tr>\n",
       "  </thead>\n",
       "  <tbody>\n",
       "    <tr>\n",
       "      <th>DCD</th>\n",
       "      <td>672.139203</td>\n",
       "      <td>378.291437</td>\n",
       "      <td>19.401492</td>\n",
       "      <td>14.013654</td>\n",
       "    </tr>\n",
       "    <tr>\n",
       "      <th>H5MD-chunked</th>\n",
       "      <td>760.930258</td>\n",
       "      <td>460.539749</td>\n",
       "      <td>17.706357</td>\n",
       "      <td>13.667125</td>\n",
       "    </tr>\n",
       "    <tr>\n",
       "      <th>H5MD-contiguous</th>\n",
       "      <td>611.583734</td>\n",
       "      <td>504.393022</td>\n",
       "      <td>16.183416</td>\n",
       "      <td>14.115925</td>\n",
       "    </tr>\n",
       "    <tr>\n",
       "      <th>H5MD-default</th>\n",
       "      <td>3478.410437</td>\n",
       "      <td>4101.082797</td>\n",
       "      <td>13.914295</td>\n",
       "      <td>13.952251</td>\n",
       "    </tr>\n",
       "    <tr>\n",
       "      <th>TRR</th>\n",
       "      <td>1454.064854</td>\n",
       "      <td>1414.491395</td>\n",
       "      <td>11.784362</td>\n",
       "      <td>11.572413</td>\n",
       "    </tr>\n",
       "    <tr>\n",
       "      <th>XTC</th>\n",
       "      <td>823.458678</td>\n",
       "      <td>709.164676</td>\n",
       "      <td>11.882056</td>\n",
       "      <td>11.438260</td>\n",
       "    </tr>\n",
       "  </tbody>\n",
       "</table>\n",
       "</div>"
      ],
      "text/plain": [
       "                          IO          IO2       RMSD      RMSD2\n",
       "DCD               672.139203   378.291437  19.401492  14.013654\n",
       "H5MD-chunked      760.930258   460.539749  17.706357  13.667125\n",
       "H5MD-contiguous   611.583734   504.393022  16.183416  14.115925\n",
       "H5MD-default     3478.410437  4101.082797  13.914295  13.952251\n",
       "TRR              1454.064854  1414.491395  11.784362  11.572413\n",
       "XTC               823.458678   709.164676  11.882056  11.438260"
      ]
     },
     "execution_count": 28,
     "metadata": {},
     "output_type": "execute_result"
    }
   ],
   "source": [
    "columns = [\"IO\", \"IO2\", \"RMSD\", \"RMSD2\",]\n",
    "index = [\"DCD\", \"H5MD-chunked\", \"H5MD-contiguous\", \"H5MD-default\", \"TRR\", \"XTC\"]\n",
    "mean_dframe = pd.DataFrame(means, columns=columns, index=index)\n",
    "mean_dframe"
   ]
  },
  {
   "cell_type": "code",
   "execution_count": 29,
   "metadata": {},
   "outputs": [
    {
     "data": {
      "text/html": [
       "<div>\n",
       "<style scoped>\n",
       "    .dataframe tbody tr th:only-of-type {\n",
       "        vertical-align: middle;\n",
       "    }\n",
       "\n",
       "    .dataframe tbody tr th {\n",
       "        vertical-align: top;\n",
       "    }\n",
       "\n",
       "    .dataframe thead th {\n",
       "        text-align: right;\n",
       "    }\n",
       "</style>\n",
       "<table border=\"1\" class=\"dataframe\">\n",
       "  <thead>\n",
       "    <tr style=\"text-align: right;\">\n",
       "      <th></th>\n",
       "      <th>IO</th>\n",
       "      <th>IO2</th>\n",
       "      <th>RMSD</th>\n",
       "      <th>RMSD2</th>\n",
       "    </tr>\n",
       "  </thead>\n",
       "  <tbody>\n",
       "    <tr>\n",
       "      <th>DCD</th>\n",
       "      <td>96.464094</td>\n",
       "      <td>65.911920</td>\n",
       "      <td>1.765852</td>\n",
       "      <td>0.262120</td>\n",
       "    </tr>\n",
       "    <tr>\n",
       "      <th>H5MD-chunked</th>\n",
       "      <td>103.358754</td>\n",
       "      <td>36.878829</td>\n",
       "      <td>0.569585</td>\n",
       "      <td>0.165204</td>\n",
       "    </tr>\n",
       "    <tr>\n",
       "      <th>H5MD-contiguous</th>\n",
       "      <td>258.066421</td>\n",
       "      <td>9.473219</td>\n",
       "      <td>1.052708</td>\n",
       "      <td>0.176243</td>\n",
       "    </tr>\n",
       "    <tr>\n",
       "      <th>H5MD-default</th>\n",
       "      <td>965.413210</td>\n",
       "      <td>962.890739</td>\n",
       "      <td>0.303576</td>\n",
       "      <td>0.096272</td>\n",
       "    </tr>\n",
       "    <tr>\n",
       "      <th>TRR</th>\n",
       "      <td>30.559073</td>\n",
       "      <td>43.832359</td>\n",
       "      <td>0.262022</td>\n",
       "      <td>0.126222</td>\n",
       "    </tr>\n",
       "    <tr>\n",
       "      <th>XTC</th>\n",
       "      <td>77.973602</td>\n",
       "      <td>5.703659</td>\n",
       "      <td>0.477888</td>\n",
       "      <td>0.155725</td>\n",
       "    </tr>\n",
       "  </tbody>\n",
       "</table>\n",
       "</div>"
      ],
      "text/plain": [
       "                         IO         IO2      RMSD     RMSD2\n",
       "DCD               96.464094   65.911920  1.765852  0.262120\n",
       "H5MD-chunked     103.358754   36.878829  0.569585  0.165204\n",
       "H5MD-contiguous  258.066421    9.473219  1.052708  0.176243\n",
       "H5MD-default     965.413210  962.890739  0.303576  0.096272\n",
       "TRR               30.559073   43.832359  0.262022  0.126222\n",
       "XTC               77.973602    5.703659  0.477888  0.155725"
      ]
     },
     "execution_count": 29,
     "metadata": {},
     "output_type": "execute_result"
    }
   ],
   "source": [
    "columns = [\"IO\", \"IO2\", \"RMSD\", \"RMSD2\",]\n",
    "index = [\"DCD\", \"H5MD-chunked\", \"H5MD-contiguous\", \"H5MD-default\", \"TRR\", \"XTC\"]\n",
    "error_dframe = pd.DataFrame(errors, columns=columns, index=index)\n",
    "error_dframe"
   ]
  },
  {
   "cell_type": "code",
   "execution_count": 30,
   "metadata": {
    "scrolled": true
   },
   "outputs": [
    {
     "data": {
      "text/plain": [
       "H5MD-chunked        36.878829\n",
       "H5MD-contiguous      9.473219\n",
       "H5MD-default       962.890739\n",
       "Name: IO2, dtype: float64"
      ]
     },
     "execution_count": 30,
     "metadata": {},
     "output_type": "execute_result"
    }
   ],
   "source": [
    "yerrs = error_dframe.loc[['H5MD-chunked', 'H5MD-contiguous', 'H5MD-default'],'IO2']\n",
    "yerrs"
   ]
  },
  {
   "cell_type": "code",
   "execution_count": 31,
   "metadata": {},
   "outputs": [
    {
     "name": "stderr",
     "output_type": "stream",
     "text": [
      "<ipython-input-31-92482caf7400>:5: MatplotlibDeprecationWarning: Adding an axes using the same arguments as a previous axes currently reuses the earlier instance.  In a future version, a new instance will always be created and returned.  Meanwhile, this warning can be suppressed, and the future behavior ensured, by passing a unique label to each axes instance.\n",
      "  plt.axes().yaxis.get_ticklocs(minor=True)\n"
     ]
    },
    {
     "data": {
      "image/png": "[encoded data removed]",
      "text/plain": [
       "<Figure size 432x288 with 1 Axes>"
      ]
     },
     "metadata": {
      "needs_background": "light"
     },
     "output_type": "display_data"
    }
   ],
   "source": [
    "mean_dframe.loc[['H5MD-chunked', 'H5MD-contiguous', 'H5MD-default'],'IO2'].plot(kind='bar', color='darkcyan',yerr=yerrs)\n",
    "plt.xticks(rotation=0, horizontalalignment=\"center\")\n",
    "plt.ylabel('Time (s)')\n",
    "plt.title('Serial IO Time')\n",
    "plt.axes().yaxis.get_ticklocs(minor=True)\n",
    "plt.savefig('Serial_IO.pdf')"
   ]
  },
  {
   "cell_type": "code",
   "execution_count": 26,
   "metadata": {},
   "outputs": [],
   "source": [
    "plt.axes?"
   ]
  },
  {
   "cell_type": "code",
   "execution_count": 16,
   "metadata": {},
   "outputs": [
    {
     "ename": "NameError",
     "evalue": "name 'array' is not defined",
     "output_type": "error",
     "traceback": [
      "\u001b[1;31m---------------------------------------------------------------------------\u001b[0m",
      "\u001b[1;31mNameError\u001b[0m                                 Traceback (most recent call last)",
      "\u001b[1;32m<ipython-input-16-5d8bbde10a75>\u001b[0m in \u001b[0;36m<module>\u001b[1;34m\u001b[0m\n\u001b[0;32m      1\u001b[0m \u001b[0mcolumns\u001b[0m \u001b[1;33m=\u001b[0m \u001b[1;33m[\u001b[0m\u001b[1;34m\"IO\"\u001b[0m\u001b[1;33m,\u001b[0m \u001b[1;34m\"IO_std\"\u001b[0m\u001b[1;33m,\u001b[0m \u001b[1;34m\"RMSD\"\u001b[0m\u001b[1;33m,\u001b[0m \u001b[1;34m\"RSMD_std\"\u001b[0m\u001b[1;33m,\u001b[0m \u001b[1;34m\"IO\"\u001b[0m\u001b[1;33m,\u001b[0m \u001b[1;34m\"IO_std\"\u001b[0m\u001b[1;33m,\u001b[0m \u001b[1;34m\"RMSD\"\u001b[0m\u001b[1;33m,\u001b[0m \u001b[1;34m\"RMSD_std\"\u001b[0m\u001b[1;33m]\u001b[0m\u001b[1;33m\u001b[0m\u001b[1;33m\u001b[0m\u001b[0m\n\u001b[0;32m      2\u001b[0m \u001b[0mindex\u001b[0m \u001b[1;33m=\u001b[0m \u001b[1;33m[\u001b[0m\u001b[1;34m\"DCD\"\u001b[0m\u001b[1;33m,\u001b[0m \u001b[1;34m\"H5MD_chunked\"\u001b[0m\u001b[1;33m,\u001b[0m \u001b[1;34m\"H5MD_contiguous\"\u001b[0m\u001b[1;33m,\u001b[0m \u001b[1;34m\"H5MD_default\"\u001b[0m\u001b[1;33m,\u001b[0m \u001b[1;34m\"TRR\"\u001b[0m\u001b[1;33m,\u001b[0m \u001b[1;34m\"XTC\"\u001b[0m\u001b[1;33m]\u001b[0m\u001b[1;33m\u001b[0m\u001b[1;33m\u001b[0m\u001b[0m\n\u001b[1;32m----> 3\u001b[1;33m \u001b[0mdframe\u001b[0m \u001b[1;33m=\u001b[0m \u001b[0mpd\u001b[0m\u001b[1;33m.\u001b[0m\u001b[0mDataFrame\u001b[0m\u001b[1;33m(\u001b[0m\u001b[0marray\u001b[0m\u001b[1;33m,\u001b[0m \u001b[0mcolumns\u001b[0m\u001b[1;33m=\u001b[0m\u001b[0mcolumns\u001b[0m\u001b[1;33m,\u001b[0m \u001b[0mindex\u001b[0m\u001b[1;33m=\u001b[0m\u001b[0mindex\u001b[0m\u001b[1;33m)\u001b[0m\u001b[1;33m\u001b[0m\u001b[1;33m\u001b[0m\u001b[0m\n\u001b[0m\u001b[0;32m      4\u001b[0m \u001b[0mdframe\u001b[0m\u001b[1;33m\u001b[0m\u001b[1;33m\u001b[0m\u001b[0m\n",
      "\u001b[1;31mNameError\u001b[0m: name 'array' is not defined"
     ]
    }
   ],
   "source": [
    "columns = [\"IO\", \"IO_std\", \"RMSD\", \"RSMD_std\", \"IO\", \"IO_std\", \"RMSD\", \"RMSD_std\"]\n",
    "index = [\"DCD\", \"H5MD_chunked\", \"H5MD_contiguous\", \"H5MD_default\", \"TRR\", \"XTC\"]\n",
    "dframe = pd.DataFrame(array, columns=columns, index=index)\n",
    "dframe"
   ]
  },
  {
   "cell_type": "code",
   "execution_count": null,
   "metadata": {},
   "outputs": [],
   "source": []
  },
  {
   "cell_type": "code",
   "execution_count": null,
   "metadata": {},
   "outputs": [],
   "source": []
  },
  {
   "cell_type": "code",
   "execution_count": null,
   "metadata": {},
   "outputs": [],
   "source": []
  },
  {
   "cell_type": "code",
   "execution_count": null,
   "metadata": {},
   "outputs": [],
   "source": []
  },
  {
   "cell_type": "code",
   "execution_count": 31,
   "metadata": {},
   "outputs": [
    {
     "ename": "NameError",
     "evalue": "name 'dframe' is not defined",
     "output_type": "error",
     "traceback": [
      "\u001b[1;31m---------------------------------------------------------------------------\u001b[0m",
      "\u001b[1;31mNameError\u001b[0m                                 Traceback (most recent call last)",
      "\u001b[1;32m<ipython-input-31-978d3826d3ff>\u001b[0m in \u001b[0;36m<module>\u001b[1;34m\u001b[0m\n\u001b[1;32m----> 1\u001b[1;33m \u001b[0myerrs\u001b[0m \u001b[1;33m=\u001b[0m \u001b[0mdframe\u001b[0m\u001b[1;33m.\u001b[0m\u001b[0mloc\u001b[0m\u001b[1;33m[\u001b[0m\u001b[1;33m[\u001b[0m\u001b[1;34m'H5MD_chunked'\u001b[0m\u001b[1;33m,\u001b[0m \u001b[1;34m'H5MD_contiguous'\u001b[0m\u001b[1;33m,\u001b[0m \u001b[1;34m'H5MD_default'\u001b[0m\u001b[1;33m]\u001b[0m\u001b[1;33m,\u001b[0m\u001b[1;34m'IO_std'\u001b[0m\u001b[1;33m]\u001b[0m\u001b[1;33m\u001b[0m\u001b[1;33m\u001b[0m\u001b[0m\n\u001b[0m\u001b[0;32m      2\u001b[0m \u001b[0mdframe\u001b[0m\u001b[1;33m.\u001b[0m\u001b[0mloc\u001b[0m\u001b[1;33m[\u001b[0m\u001b[1;33m[\u001b[0m\u001b[1;34m'H5MD_chunked'\u001b[0m\u001b[1;33m,\u001b[0m \u001b[1;34m'H5MD_contiguous'\u001b[0m\u001b[1;33m,\u001b[0m \u001b[1;34m'H5MD_default'\u001b[0m\u001b[1;33m]\u001b[0m\u001b[1;33m,\u001b[0m\u001b[1;34m'IO'\u001b[0m\u001b[1;33m]\u001b[0m\u001b[1;33m.\u001b[0m\u001b[0mplot\u001b[0m\u001b[1;33m(\u001b[0m\u001b[0mkind\u001b[0m\u001b[1;33m=\u001b[0m\u001b[1;34m'bar'\u001b[0m\u001b[1;33m,\u001b[0m \u001b[0myerr\u001b[0m\u001b[1;33m=\u001b[0m\u001b[0myerrs\u001b[0m\u001b[1;33m)\u001b[0m\u001b[1;33m\u001b[0m\u001b[1;33m\u001b[0m\u001b[0m\n\u001b[0;32m      3\u001b[0m \u001b[0mplt\u001b[0m\u001b[1;33m.\u001b[0m\u001b[0mxticks\u001b[0m\u001b[1;33m(\u001b[0m\u001b[0mrotation\u001b[0m\u001b[1;33m=\u001b[0m\u001b[1;36m0\u001b[0m\u001b[1;33m,\u001b[0m \u001b[0mhorizontalalignment\u001b[0m\u001b[1;33m=\u001b[0m\u001b[1;34m\"center\"\u001b[0m\u001b[1;33m)\u001b[0m\u001b[1;33m\u001b[0m\u001b[1;33m\u001b[0m\u001b[0m\n\u001b[0;32m      4\u001b[0m \u001b[0mplt\u001b[0m\u001b[1;33m.\u001b[0m\u001b[0mylabel\u001b[0m\u001b[1;33m(\u001b[0m\u001b[1;34m'Time (s)'\u001b[0m\u001b[1;33m)\u001b[0m\u001b[1;33m\u001b[0m\u001b[1;33m\u001b[0m\u001b[0m\n\u001b[0;32m      5\u001b[0m \u001b[0mplt\u001b[0m\u001b[1;33m.\u001b[0m\u001b[0mtitle\u001b[0m\u001b[1;33m(\u001b[0m\u001b[1;34m'Serial IO Time'\u001b[0m\u001b[1;33m)\u001b[0m\u001b[1;33m\u001b[0m\u001b[1;33m\u001b[0m\u001b[0m\n",
      "\u001b[1;31mNameError\u001b[0m: name 'dframe' is not defined"
     ]
    }
   ],
   "source": [
    "yerrs = dframe.loc[['H5MD_chunked', 'H5MD_contiguous', 'H5MD_default'],'IO_std']\n",
    "dframe.loc[['H5MD_chunked', 'H5MD_contiguous', 'H5MD_default'],'IO'].plot(kind='bar', yerr=yerrs)\n",
    "plt.xticks(rotation=0, horizontalalignment=\"center\")\n",
    "plt.ylabel('Time (s)')\n",
    "plt.title('Serial IO Time')\n",
    "lgd = plt.legend(['old_assignment', 'read_direct'])"
   ]
  },
  {
   "cell_type": "code",
   "execution_count": null,
   "metadata": {},
   "outputs": [],
   "source": [
    "yerr = dframe.loc[['H5MD_chunked', 'H5MD_contiguous', 'H5MD_default'],'RMSD_std']\n",
    "dframe.loc[['H5MD_chunked', 'H5MD_contiguous', 'H5MD_default'],'RMSD'].plot(kind='bar', yerr=yerr)\n",
    "plt.xticks(rotation=0, horizontalalignment=\"center\")\n",
    "plt.ylabel('Time (s)')\n",
    "plt.title('Compute RMSD Time')\n",
    "lgd = plt.legend(['old_assignment', 'read_direct'])"
   ]
  },
  {
   "cell_type": "code",
   "execution_count": null,
   "metadata": {},
   "outputs": [],
   "source": [
    "yerr = dframe.loc[['H5MD_chunked', 'DCD', 'TRR', 'XTC'],'IO_std']\n",
    "dframe.loc[['H5MD_chunked', 'DCD', 'TRR', 'XTC'],'IO'].plot(kind='bar', yerr=yerr)\n",
    "plt.xticks(rotation=0, horizontalalignment=\"center\")\n",
    "plt.ylabel('Time (s)')\n",
    "plt.title(\"Serial IO Time\")\n",
    "lgd = plt.legend(['old_assignment', 'read_direct'])"
   ]
  },
  {
   "cell_type": "code",
   "execution_count": null,
   "metadata": {},
   "outputs": [],
   "source": [
    "yerr = dframe.loc[['H5MD_chunked', 'DCD', 'TRR', 'XTC'],'RMSD_std']\n",
    "dframe.loc[['H5MD_chunked', 'DCD', 'TRR', 'XTC'],'RMSD'].plot(kind='bar', yerr=yerr)\n",
    "plt.xticks(rotation=0, horizontalalignment=\"center\")\n",
    "plt.ylabel('Time (s)')\n",
    "plt.title('Compute RMSD Time')\n",
    "lgd = plt.legend(['old_assignment', 'read_direct'])"
   ]
  },
  {
   "cell_type": "code",
   "execution_count": 32,
   "metadata": {},
   "outputs": [],
   "source": [
    "array2 = np.empty((4,4))\n",
    "\n",
    "array2[0,0] = np.mean(dcd3[:,3])\n",
    "array2[0,1] = np.std(dcd3[:,3])\n",
    "array2[0,2] = np.mean(dcd3[:,5])\n",
    "array2[0,3] = np.std(dcd3[:,5])\n",
    "\n",
    "array2[1,0] = np.mean(h5md3[:,3])\n",
    "array2[1,1] = np.std(h5md3[:,3])\n",
    "array2[1,2] = np.mean(h5md3[:,5])\n",
    "array2[1,3] = np.std(h5md3[:,5])\n",
    "\n",
    "array2[2,0] = np.mean(trr[:,3])\n",
    "array2[2,1] = np.std(trr[:,3])\n",
    "array2[2,2] = np.mean(trr[:,5])\n",
    "array2[2,3] = np.std(trr[:,5])\n",
    "\n",
    "array2[3,0] = np.mean(xtc[:,3])\n",
    "array2[3,1] = np.std(xtc[:,3])\n",
    "array2[3,2] = np.mean(xtc[:,5])\n",
    "array2[3,3] = np.std(xtc[:,5])"
   ]
  },
  {
   "cell_type": "code",
   "execution_count": 40,
   "metadata": {},
   "outputs": [
    {
     "data": {
      "text/html": [
       "<div>\n",
       "<style scoped>\n",
       "    .dataframe tbody tr th:only-of-type {\n",
       "        vertical-align: middle;\n",
       "    }\n",
       "\n",
       "    .dataframe tbody tr th {\n",
       "        vertical-align: top;\n",
       "    }\n",
       "\n",
       "    .dataframe thead th {\n",
       "        text-align: right;\n",
       "    }\n",
       "</style>\n",
       "<table border=\"1\" class=\"dataframe\">\n",
       "  <thead>\n",
       "    <tr style=\"text-align: right;\">\n",
       "      <th></th>\n",
       "      <th>IO</th>\n",
       "      <th>IO_std</th>\n",
       "      <th>RMSD</th>\n",
       "      <th>RSMD_std</th>\n",
       "    </tr>\n",
       "  </thead>\n",
       "  <tbody>\n",
       "    <tr>\n",
       "      <th>DCD</th>\n",
       "      <td>525.215320</td>\n",
       "      <td>168.557049</td>\n",
       "      <td>16.707573</td>\n",
       "      <td>2.975007</td>\n",
       "    </tr>\n",
       "    <tr>\n",
       "      <th>H5MD-chunked</th>\n",
       "      <td>610.735004</td>\n",
       "      <td>169.056660</td>\n",
       "      <td>15.686741</td>\n",
       "      <td>2.062695</td>\n",
       "    </tr>\n",
       "    <tr>\n",
       "      <th>TRR</th>\n",
       "      <td>1454.064854</td>\n",
       "      <td>30.559073</td>\n",
       "      <td>11.784362</td>\n",
       "      <td>0.262022</td>\n",
       "    </tr>\n",
       "    <tr>\n",
       "      <th>XTC</th>\n",
       "      <td>823.458678</td>\n",
       "      <td>77.973602</td>\n",
       "      <td>11.882056</td>\n",
       "      <td>0.477888</td>\n",
       "    </tr>\n",
       "  </tbody>\n",
       "</table>\n",
       "</div>"
      ],
      "text/plain": [
       "                       IO      IO_std       RMSD  RSMD_std\n",
       "DCD            525.215320  168.557049  16.707573  2.975007\n",
       "H5MD-chunked   610.735004  169.056660  15.686741  2.062695\n",
       "TRR           1454.064854   30.559073  11.784362  0.262022\n",
       "XTC            823.458678   77.973602  11.882056  0.477888"
      ]
     },
     "execution_count": 40,
     "metadata": {},
     "output_type": "execute_result"
    }
   ],
   "source": [
    "columns2 = [\"IO\", \"IO_std\", \"RMSD\", \"RSMD_std\"]\n",
    "index2 = [\"DCD\", \"H5MD-chunked\", \"TRR\", \"XTC\"]\n",
    "dframe2 = pd.DataFrame(array2, columns=columns2, index=index2)\n",
    "dframe2"
   ]
  },
  {
   "cell_type": "code",
   "execution_count": 44,
   "metadata": {
    "scrolled": false
   },
   "outputs": [
    {
     "data": {
      "image/png": "[encoded data removed]",
      "text/plain": [
       "<Figure size 432x288 with 1 Axes>"
      ]
     },
     "metadata": {
      "needs_background": "light"
     },
     "output_type": "display_data"
    }
   ],
   "source": [
    "yerr = dframe2.loc[['H5MD-chunked', 'DCD', 'TRR', 'XTC'],'IO_std']\n",
    "dframe2.loc[['H5MD-chunked', 'DCD', 'TRR', 'XTC'],'IO'].plot(kind='bar', color='darkcyan', yerr=yerr)\n",
    "plt.xticks(rotation=0, horizontalalignment=\"center\")\n",
    "plt.ylabel('Time (s)')\n",
    "plt.title(\"Serial IO Time\")\n",
    "plt.savefig(\"format-comparison.pdf\")"
   ]
  },
  {
   "cell_type": "code",
   "execution_count": null,
   "metadata": {},
   "outputs": [],
   "source": []
  }
 ],
 "metadata": {
  "kernelspec": {
   "display_name": "Python 3",
   "language": "python",
   "name": "python3"
  },
  "language_info": {
   "codemirror_mode": {
    "name": "ipython",
    "version": 3
   },
   "file_extension": ".py",
   "mimetype": "text/x-python",
   "name": "python",
   "nbconvert_exporter": "python",
   "pygments_lexer": "ipython3",
   "version": "3.8.3"
  }
 },
 "nbformat": 4,
 "nbformat_minor": 4
}
